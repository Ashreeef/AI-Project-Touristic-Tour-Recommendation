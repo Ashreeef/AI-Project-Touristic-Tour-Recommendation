{
 "cells": [
  {
   "cell_type": "markdown",
   "metadata": {},
   "source": [
    "# Touristic Tour Recommendation Application\n",
    "This notebook outlines the steps involved in creating an algorithm that generates a one-week itinerary for tourists in Algeria. The itinerary is optimized based on user preferences, proximity, and travel costs. Various search techniques, including **Uninformed Search Algorithms**, **A*** and **Hill Climbing**, are employed to create the optimal itinerary.\n"
   ]
  },
  {
   "cell_type": "markdown",
   "metadata": {},
   "source": [
    "## Data Collection & Research\n",
    "We gathered - clean - data about **+100 Algerian tourist attractions**, including the following attributes:\n",
    "- **Attraction Name**\n",
    "- **Type of Attraction** (museum, nature, beach, etc.)\n",
    "- **City**\n",
    "- **Cost** (entry fee)\n",
    "- **Rating** (user rating)\n",
    "- **GPS Coordinates** (latitude, longitude)\n",
    "- **Description** (short description)\n"
   ]
  },
  {
   "cell_type": "code",
   "execution_count": 18,
   "metadata": {},
   "outputs": [
    {
     "name": "stdout",
     "output_type": "stream",
     "text": [
      "Number of attractions: 74\n",
      "\n",
      "Number of attractions per city:\n",
      "Algiers: 18\n",
      "Tipaza: 2\n",
      "Blida: 1\n",
      "Médéa: 3\n",
      "Oran: 12\n",
      "Tlemcen: 8\n",
      "Batna: 1\n",
      "Ghardaïa: 2\n",
      "Bejaia: 1\n",
      "Constantine: 5\n",
      "Djanet: 1\n",
      "Sétif: 4\n",
      "Annaba: 4\n",
      "Guelma: 2\n",
      "El Tarf: 1\n",
      "Tamanrasset: 2\n",
      "Béchar: 1\n",
      "Bouira: 1\n",
      "Brezina, El Bayadh: 1\n",
      "Khenchela: 1\n",
      "Biskra: 3\n",
      "\n",
      "Number of attractions per category:\n",
      "Garden: 3\n",
      "Museum: 7\n",
      "Cultural: 14\n",
      "Historical: 14\n",
      "Religious: 6\n",
      "Amusement Park: 3\n",
      "Port: 1\n",
      "Shopping Mall: 4\n",
      "Nature: 22\n"
     ]
    }
   ],
   "source": [
    "import json\n",
    "from collections import Counter\n",
    "\n",
    "DATA_PATH = \"../Data/attractions.json\"\n",
    "\n",
    "with open(DATA_PATH, \"r\", encoding=\"utf-8\") as f:\n",
    "    attractions_data = json.load(f)\n",
    "\n",
    "if not isinstance(attractions_data, list):\n",
    "    raise ValueError(\"The JSON file does not contain a list of attractions.\")\n",
    "\n",
    "print(\"Number of attractions:\", len(attractions_data))\n",
    "\n",
    "# Count attractions per city\n",
    "city_counts = Counter(attraction.get(\"city\", \"Unknown\") for attraction in attractions_data)\n",
    "\n",
    "# Count attractions per category\n",
    "category_counts = Counter(attraction.get(\"category\", \"Unknown\") for attraction in attractions_data)\n",
    "\n",
    "print(\"\\nNumber of attractions per city:\")\n",
    "for city, count in city_counts.items():\n",
    "    print(f\"{city}: {count}\")\n",
    "\n",
    "print(\"\\nNumber of attractions per category:\")\n",
    "for category, count in category_counts.items():\n",
    "    print(f\"{category}: {count}\")\n"
   ]
  },
  {
   "cell_type": "markdown",
   "metadata": {},
   "source": [
    "## Distance and Proximity Calculation\n",
    "To calculate the optimal itinerary, we need to compute the distances between attractions. We will use the **Haversine Formula** to calculate the distance between two locations based on their GPS coordinates.\n"
   ]
  },
  {
   "cell_type": "code",
   "execution_count": 2,
   "metadata": {},
   "outputs": [
    {
     "data": {
      "text/plain": [
       "58.570295060336306"
      ]
     },
     "execution_count": 2,
     "metadata": {},
     "output_type": "execute_result"
    }
   ],
   "source": [
    "import math\n",
    "\n",
    "# Haversine formula to calculate distance between two points (in km)\n",
    "def haversine(lat1, lon1, lat2, lon2):\n",
    "    R = 6371  # Radius of the Earth in kilometers\n",
    "    dlat = math.radians(lat2 - lat1)\n",
    "    dlon = math.radians(lon2 - lon1)\n",
    "    a = math.sin(dlat / 2)**2 + math.cos(math.radians(lat1)) * math.cos(math.radians(lat2)) * math.sin(dlon / 2)**2\n",
    "    c = 2 * math.atan2(math.sqrt(a), math.sqrt(1 - a))\n",
    "    return R * c\n",
    "\n",
    "# e.g.\n",
    "distance = haversine(36.7452, 3.0750, 36.5894, 2.4477)\n",
    "distance\n"
   ]
  },
  {
   "cell_type": "markdown",
   "metadata": {},
   "source": [
    "## User Preferences Simulation \n",
    "The application will take inputs (from the website interface) such as:\n",
    "- **Starting location**: Algiers\n",
    "- **Preferred attractions**: Museums, Historical Sites\n",
    "- **Budget**: 1500 DZD\n",
    "- **Hotel rating**: 3 stars\n"
   ]
  },
  {
   "cell_type": "markdown",
   "metadata": {},
   "source": [
    "## Problem Formulation\n",
    "**1. Define the Problem Components** \n",
    "\n",
    "We model the itinerary planning as a **search problem** and a **CSP**.  \n",
    "- **States**: Partial itineraries (sequence of attractions).  \n",
    "- **Actions**: Adding a new attraction to the itinerary.  \n",
    "- **Goal**: A 7-day itinerary that maximizes user satisfaction and minimizes cost/time.  \n",
    "- **Constraints**: No repeated attractions, budget limits, and proximity.\n",
    "\n",
    "**2. State Representation**\n",
    "\n",
    "Define the \"state\" as a sequence of attractions grouped by day.\n",
    "Example State: [Day1: Algiers Citadel, Day2: Tassili n'Ajjer, ...]"
   ]
  },
  {
   "cell_type": "code",
   "execution_count": 14,
   "metadata": {},
   "outputs": [],
   "source": [
    "class ItineraryState:\n",
    "    def __init__(self, days, attractions):\n",
    "        self.days = days  # List of attractions per day (e.g., [ [attr1], [attr2], ... ])\n",
    "        self.attractions = attractions  # List of all attractions\n",
    "    \n",
    "    def __repr__(self):\n",
    "        return f\"Itinerary: {[day[0]['Name'] for day in self.days if len(day) > 0]}\""
   ]
  },
  {
   "cell_type": "markdown",
   "metadata": {},
   "source": [
    "**3. Actions**\n",
    "\n",
    "Actions are the valid attractions that can be added to the itinerary based on constraints."
   ]
  },
  {
   "cell_type": "code",
   "execution_count": 16,
   "metadata": {},
   "outputs": [],
   "source": [
    "def get_actions(state, user_prefs, max_daily_cost=10000):\n",
    "    \"\"\"\n",
    "    Returns possible attractions to add to the itinerary.\n",
    "    Constraints:\n",
    "    - No repeated attractions.\n",
    "    - Daily cost ≤ max_daily_cost.\n",
    "    - Proximity (attractions must be within 200 km of the previous day's location).\n",
    "    \"\"\"\n",
    "    pass\n",
    "    # the following is mock code only\n",
    "    \n",
    "    # if len(state.days) >= 7:\n",
    "    #     return []  # Itinerary is complete\n",
    "    \n",
    "    # current_day = len(state.days)\n",
    "    # last_attraction = state.days[-1][0] if current_day > 0 else None\n",
    "    \n",
    "    # valid_actions = []\n",
    "    # for attr in state.attractions:\n",
    "    #     # Constraint 1: No repeats\n",
    "    #     if any(attr['Name'] in [a['Name'] for day in state.days for a in day]:\n",
    "    #         continue\n",
    "        \n",
    "    #     # Constraint 2: Proximity (if not first day)\n",
    "    #     if last_attraction:\n",
    "    #         distance = haversine(\n",
    "    #             last_attraction['Latitude'], last_attraction['Longitude'],\n",
    "    #             attr['Latitude'], attr['Longitude']\n",
    "    #         )\n",
    "    #         if distance > 200:  # 200 km max travel per day\n",
    "    #             continue\n",
    "        \n",
    "    #     # Constraint 3: Cost (entry + estimated travel cost)\n",
    "    #     travel_cost = distance * 50  # Assume 50 DZD/km\n",
    "    #     total_cost = attr['Entry_Cost'] + travel_cost\n",
    "    #     if total_cost > max_daily_cost:\n",
    "    #         continue\n",
    "        \n",
    "    #     valid_actions.append(attr)\n",
    "    \n",
    "    # return valid_actions"
   ]
  },
  {
   "cell_type": "markdown",
   "metadata": {},
   "source": [
    "**4. Goal Test**\n",
    "\n",
    "Check if the itinerary is complete (7 days) and meets all constraints."
   ]
  },
  {
   "cell_type": "code",
   "execution_count": 18,
   "metadata": {},
   "outputs": [],
   "source": [
    "def is_goal(state, user_budget=50000):\n",
    "    \"\"\"\n",
    "    Goal test: \n",
    "    - 7-day itinerary.\n",
    "    - Total cost ≤ user budget.\n",
    "    \"\"\"\n",
    "    # the following is mock code only\n",
    "    \n",
    "    # total_cost = 0\n",
    "    # for day in state.days:\n",
    "    #     if len(day) == 0:\n",
    "    #         return False  # Incomplete day\n",
    "    #     attr = day[0]\n",
    "    #     total_cost += attr['Entry_Cost']\n",
    "    \n",
    "    # return len(state.days) == 7 and total_cost <= user_budget"
   ]
  },
  {
   "cell_type": "markdown",
   "metadata": {},
   "source": [
    "## Search Algorithm Implementations\n",
    "\n",
    "In this project, we use a combination of **uninformed search algorithms** (BFS, DFS) and **informed search algorithms** (A\\* Search, Hill Climbing) to generate the optimal itinerary based on cost, proximity, and user preferences.\n",
    "\n",
    "Each search algorithm has its strengths and weaknesses. In this section, we will implement and compare their performance in solving the itinerary optimization problem.\n"
   ]
  },
  {
   "cell_type": "markdown",
   "metadata": {},
   "source": [
    "### BFS\n",
    "Explores all paths at the current depth before moving on to the next level, ensuring the shortest path is found if the graph is unweighted.\n"
   ]
  },
  {
   "cell_type": "code",
   "execution_count": 8,
   "metadata": {},
   "outputs": [],
   "source": [
    "from collections import deque\n",
    "\n",
    "def bfs(): # parameters needed !\n",
    "    \"\"\"\n",
    "    Perform a BFS to find the shortest path from start to goal.\n",
    "    \n",
    "    Args:\n",
    "    - start: Starting location (current location).\n",
    "    - goal: Desired goal (final destination).\n",
    "    - attractions: List of all attractions (places to visit).\n",
    "    - distance_function: Function to calculate the distance between locations.\n",
    "    - maybe more, depends on the one implementing the algorithm\n",
    "    \n",
    "    Returns:\n",
    "    - List of attractions in the optimal path.\n",
    "    \"\"\"\n",
    "    pass\n",
    "\n",
    "# maybe other functions here"
   ]
  },
  {
   "cell_type": "markdown",
   "metadata": {},
   "source": [
    "### DFS\n",
    "Explores each path as deep as possible before backtracking, often used when exploring solutions in a depth-first manner."
   ]
  },
  {
   "cell_type": "code",
   "execution_count": 9,
   "metadata": {},
   "outputs": [],
   "source": [
    "def dfs(): # parameters needed !\n",
    "    \"\"\"\n",
    "    Perform a DFS to find a path from start to goal.\n",
    "    \n",
    "    Args:\n",
    "    - start: Starting location.\n",
    "    - goal: Desired goal.\n",
    "    - attractions: List of all attractions.\n",
    "    - distance_function: Function to calculate distance.\n",
    "    - maybe more, depends on the one implementing the algorithm\n",
    "    \n",
    "    Returns:\n",
    "    - List of attractions in the path, or None if no path is found.\n",
    "    \"\"\"\n",
    "    pass\n",
    "\n",
    "# maybe other functions here"
   ]
  },
  {
   "cell_type": "markdown",
   "metadata": {},
   "source": [
    "### A\\*\n",
    "Uses a heuristic to optimize the search process by combining the current cost with the estimated cost to reach the goal."
   ]
  },
  {
   "cell_type": "code",
   "execution_count": 10,
   "metadata": {},
   "outputs": [],
   "source": [
    "import heapq\n",
    "\n",
    "def a_star_search(): # parameters needed !\n",
    "    \"\"\"\n",
    "    Perform A* search to find the optimal path from start to goal.\n",
    "    \n",
    "    Args:\n",
    "    - start: Starting point.\n",
    "    - goal: Goal point.\n",
    "    - attractions: List of all attractions.\n",
    "    - distance_function: Function to calculate distance between locations.\n",
    "    - heuristic_function: Heuristic function to estimate the cost from a point to the goal.\n",
    "    - maybe more, depends on the one implementing the algorithm\n",
    "    \n",
    "    Returns:\n",
    "    - List of attractions in the optimal path.\n",
    "    \"\"\"\n",
    "    pass\n"
   ]
  },
  {
   "cell_type": "markdown",
   "metadata": {},
   "source": [
    "### Hill-Climbing\n",
    "A simple greedy approach that evaluates only the immediate next state and chooses the best option available without considering future paths."
   ]
  },
  {
   "cell_type": "code",
   "execution_count": 11,
   "metadata": {},
   "outputs": [],
   "source": [
    "def hill_climb_search(): # parameters needed !\n",
    "    \"\"\"\n",
    "    Perform Hill Climbing to find the optimal path based on local evaluations.\n",
    "    \n",
    "    Args:\n",
    "    - start: Starting location.\n",
    "    - attractions: List of all attractions.\n",
    "    - distance_function: Function to calculate distance.\n",
    "    - heuristic_function: Function to evaluate the \"goodness\" of a path.\n",
    "    - maybe more, depends on the one implementing the algorithm\n",
    "    \n",
    "    Returns:\n",
    "    - List of attractions in the path, or None if no solution is found.\n",
    "    \"\"\"\n",
    "    pass\n"
   ]
  },
  {
   "cell_type": "markdown",
   "metadata": {},
   "source": [
    "## CSP Approach\n",
    "We model the itinerary planning as a **Constraint Satisfaction Problem (CSP)**. Each attraction represents a variable, and the domain of each variable is the set of attractions that can be visited. Constraints include:\n",
    "  1. **One destination per day**: Each day gets exactly one destination.\n",
    "  2. **Proximity and time**: Destinations must be scheduled in a way that minimizes travel time and adheres to time constraints.\n",
    "  3. **Cost**: The total cost of the trip should be within the user’s budget.\n",
    "  4. **Preferences**: Ensure that the user’s preferences for types of attractions are respected.\n"
   ]
  },
  {
   "cell_type": "code",
   "execution_count": 12,
   "metadata": {},
   "outputs": [],
   "source": [
    "# Define constraints for the CSP\n",
    "def check_constraints(itinerary, user_preferences):\n",
    "    pass\n"
   ]
  },
  {
   "cell_type": "markdown",
   "metadata": {},
   "source": [
    "## Comparative Evaluation of Algorithms \n",
    "\n",
    "We will compare the performance of the following search algorithms:\n",
    "\n",
    "1. **BFS**: Guarantees the shortest path but may be slow for large datasets.\n",
    "2. **DFS**: Fast but not guaranteed to find the optimal solution.\n",
    "3. **A\\***: Combines optimality with efficiency when the heuristic is accurate.\n",
    "4. **Hill Climbing**: Greedy and fast but may get stuck in local optima.\n",
    "5. **CSP Approach**: Will compare the CSP solution with the search-based methods.\n",
    "\n",
    "We will evaluate the following metrics:\n",
    "- **Execution time**: How long each algorithm takes to generate the itinerary.\n",
    "- **Path optimality**: How close the solution is to the optimal itinerary in terms of cost, proximity, and user satisfaction.\n",
    "- **Complexity**: The computational complexity of each approach.\n"
   ]
  },
  {
   "cell_type": "code",
   "execution_count": 5,
   "metadata": {},
   "outputs": [],
   "source": [
    "def evaluate_solution(itinerary, total_cost, time_taken):\n",
    "    # Compare the total cost, time efficiency, and other factors\n",
    "    pass  # To be implemented\n"
   ]
  },
  {
   "cell_type": "markdown",
   "metadata": {},
   "source": [
    "## Visualizations\n",
    "\n",
    "We will include several visualizations to help understand the results:\n",
    "- **Route Map**: Visualize the itinerary on a map.\n",
    "- **Cost Breakdown**: Graph showing the total cost per destination.\n",
    "- **Satisfaction**: Bar chart comparing user satisfaction for different search strategies.\n"
   ]
  },
  {
   "cell_type": "code",
   "execution_count": 6,
   "metadata": {},
   "outputs": [],
   "source": [
    "import matplotlib.pyplot as plt\n",
    "\n",
    "# Example plot for the cost breakdown\n",
    "def plot_cost_breakdown(itinerary, attractions):\n",
    "    costs = [attractions[a]['cost'] for a in itinerary]\n",
    "    plt.bar(range(len(itinerary)), costs)\n",
    "    plt.xlabel('Attraction')\n",
    "    plt.ylabel('Cost')\n",
    "    plt.title('Cost Breakdown')\n",
    "    plt.show()\n"
   ]
  },
  {
   "cell_type": "markdown",
   "metadata": {},
   "source": [
    "## Demo\n",
    "\n",
    "In this section, we will showcase the working prototype of the **Touristic Tour Recommendation Application**. This demo will cover:\n",
    "- The **interactive input** from the user (e.g., preferences, current location, etc.).\n",
    "- Displaying the **optimized itinerary** generated by the selected search algorithm.\n",
    "- Visualizations of the **travel route**, **cost breakdown**, and **satisfaction level**."
   ]
  },
  {
   "cell_type": "code",
   "execution_count": 13,
   "metadata": {},
   "outputs": [],
   "source": [
    "pass"
   ]
  },
  {
   "cell_type": "markdown",
   "metadata": {},
   "source": [
    "## Conclusion\n",
    "\n",
    "In this notebook, we explored different search algorithms (A\\*, Hill Climbing, BFS, DFS) and a CSP approach to generate optimal itineraries for travelers in Algeria. \n",
    "We found that **.....** performed well in terms of solution quality, but it was more computationally expensive compared to **.....**. \n",
    "Future work could involve integrating real-time weather data and optimizing routes based on current traffic conditions.\n"
   ]
  }
 ],
 "metadata": {
  "kernelspec": {
   "display_name": "Python 3",
   "language": "python",
   "name": "python3"
  },
  "language_info": {
   "codemirror_mode": {
    "name": "ipython",
    "version": 3
   },
   "file_extension": ".py",
   "mimetype": "text/x-python",
   "name": "python",
   "nbconvert_exporter": "python",
   "pygments_lexer": "ipython3",
   "version": "3.12.4"
  }
 },
 "nbformat": 4,
 "nbformat_minor": 2
}
